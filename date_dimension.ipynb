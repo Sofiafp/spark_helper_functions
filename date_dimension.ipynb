{
 "cells": [
  {
   "cell_type": "code",
   "execution_count": null,
   "metadata": {
    "application/vnd.databricks.v1+cell": {
     "cellMetadata": {
      "byteLimit": 2048000,
      "rowLimit": 10000
     },
     "inputWidgets": {},
     "nuid": "7a688aa3-ad62-4440-b748-3d609d5b5b39",
     "showTitle": false,
     "title": ""
    }
   },
   "outputs": [],
   "source": [
    "beginDate = '01/01/2000'\n",
    "endDate = '01/01/2100'"
   ]
  },
  {
   "cell_type": "code",
   "execution_count": null,
   "metadata": {
    "application/vnd.databricks.v1+cell": {
     "cellMetadata": {
      "byteLimit": 2048000,
      "rowLimit": 10000
     },
     "inputWidgets": {},
     "nuid": "675c2129-d479-466b-a539-8fba8833e06e",
     "showTitle": false,
     "title": ""
    }
   },
   "outputs": [],
   "source": [
    "date_df = spark.sql(\"\"\"select explode(sequence(to_date('2000-01-01'), to_date('2100-12-31'), interval 1 day)) as date_tmp\"\"\")\n",
    "#display(date_df)"
   ]
  },
  {
   "cell_type": "code",
   "execution_count": null,
   "metadata": {
    "application/vnd.databricks.v1+cell": {
     "cellMetadata": {
      "byteLimit": 2048000,
      "rowLimit": 10000
     },
     "inputWidgets": {},
     "nuid": "bfdd30e8-dd9e-41c7-97da-de80af6a7b5f",
     "showTitle": true,
     "title": "Helper Functions - Date"
    }
   },
   "outputs": [],
   "source": [
    "def add_sufix(day: str):\n",
    "    day_as_int = int(day)\n",
    "    if day_as_int < 10:\n",
    "        if day_as_int == 1:\n",
    "            return \"1st\"\n",
    "        if day_as_int == 2:\n",
    "            return \"2nd\"\n",
    "        if day_as_int == 3:\n",
    "            return \"3rd\"\n",
    "        else:\n",
    "            return str(day_as_int) + \"th\"        \n",
    "    elif day_as_int in [11,12,13]:\n",
    "        return str(day_as_int) + \"th\"\n",
    "    else:\n",
    "        if day[1] == '1':\n",
    "            return day[0] + \"1st\"\n",
    "        if day[1] == '2':\n",
    "            return day[0] + \"2nd\"\n",
    "        if day[1] == '3':\n",
    "            return day[0] + \"3rd\"\n",
    "        else:\n",
    "            return str(day_as_int) + \"th\"\n",
    "\n",
    "def get_day_of_quarter(current_date: DateType()):\n",
    "\n",
    "    quarter_days = [date(current_date.year, i, 1) for i in [1, 4, 7,10]]\n",
    "    current_date = date(current_date.year, current_date.month, current_date.day)\n",
    "\n",
    "    if current_date < quarter_days[1]:\n",
    "        delta = current_date - quarter_days[0]\n",
    "        return(delta.days + 1)\n",
    "    elif  current_date < quarter_days[2]:\n",
    "        delta = current_date - quarter_days[1]\n",
    "        return(delta.days + 1)\n",
    "    elif  current_date < quarter_days[3]:\n",
    "        delta = current_date - quarter_days[2]\n",
    "        return(delta.days + 1)\n",
    "    else:\n",
    "        delta = current_date - quarter_days[3]\n",
    "        return(delta.days + 1)\n",
    "\n",
    "from math import ceil\n",
    "\n",
    "def get_week_of_month(dt: DateType()):\n",
    "    \"\"\" Returns the week of the month for the specified date.\n",
    "    \"\"\"\n",
    "    first_day = dt.replace(day=1)\n",
    "    print(first_day)\n",
    "\n",
    "    dom = dt.day\n",
    "    print(dom)\n",
    "\n",
    "    adjusted_dom = dom + first_day.weekday() + 1\n",
    "\n",
    "    print(adjusted_dom)\n",
    "\n",
    "    return int(ceil(adjusted_dom/7.0))\n",
    "\n",
    "def get_week_of_quarter(current_date: DateType()):\n",
    "    \"\"\" Returns the week of the month for the specified date.\n",
    "    \"\"\"\n",
    "    quarter_days = [date(current_date.year, i, 1) for i in [1, 4, 7,10]]\n",
    "    current_date = date(current_date.year, current_date.month, current_date.day)\n",
    "\n",
    "    #defines when to start counting\n",
    "    if current_date < quarter_days[1]:\n",
    "        first_day = quarter_days[0]\n",
    "    elif  current_date < quarter_days[2]:\n",
    "        first_day = quarter_days[1]\n",
    "    elif  current_date < quarter_days[3]:\n",
    "        first_day = quarter_days[2]\n",
    "    else:\n",
    "        first_day = quarter_days[3]\n",
    "\n",
    "    #number of days passed in the quarter\n",
    "    dom = get_day_of_quarter(current_date)\n",
    "\n",
    "    #adjust it to start couting from saturdays\n",
    "    adjusted_dom = dom + first_day.weekday() + 1\n",
    "\n",
    "    return int(ceil(adjusted_dom/7.0))\n",
    "\n",
    "def get_week_of_year(current_date: DateType()):\n",
    "    \"\"\" The weekofyear function of spark is wrong\n",
    "    \"\"\"\n",
    "    current_date = date(current_date.year, current_date.month, current_date.day)\n",
    "    first_day = date(current_date.year, 1, 1)\n",
    "    print(first_day)\n",
    "\n",
    "    date_diff = current_date - first_day\n",
    "    dom = date_diff.days + 1\n",
    "    print(dom)\n",
    "\n",
    "    adjusted_dom = dom + first_day.weekday() + 1\n",
    "\n",
    "    print(adjusted_dom)\n",
    "\n",
    "    return int(ceil(adjusted_dom/7.0))\n",
    "\n",
    "def get_quarter_name(quarter: str):\n",
    "    if quarter == \"1\":\n",
    "        return (\"First\")\n",
    "    if quarter == \"2\":\n",
    "        return (\"Second\")\n",
    "    if quarter == \"3\":\n",
    "        return (\"Third\")\n",
    "    else:\n",
    "        return (\"Fourth\")\n",
    "\n",
    "def get_month_of_quarter(month: str):\n",
    "    return int(month) - ceil(int(month)/4) + 1\n",
    "\n",
    "import calendar \n",
    "\n",
    "def get_first_day(current_date: date):\n",
    "        return date(current_date.year, current_date.month, 1)\n",
    "\n",
    "def get_last_day(current_date: date):\n",
    "    return date(current_date.year, current_date.month, calendar.monthrange(current_date.year, current_date.month)[1])\n",
    "\n",
    "def is_weekday(day_no: int):\n",
    "    if day_no == 7 or day_no == 1:\n",
    "        return False\n",
    "    else:\n",
    "        return True\n",
    "#a = get_first_day(datetime.now(), 2)\n",
    "#print(a)\n",
    "\n",
    "is_weekday_udf = udf(lambda x: is_weekday(x), BooleanType())\n",
    "\n",
    "get_last_day_udf = udf(lambda x: get_last_day(x), DateType())\n",
    "\n",
    "get_first_day_udf = udf(lambda x: get_first_day(x), DateType())\n",
    "\n",
    "get_month_of_quarter_udf = udf(lambda x: get_month_of_quarter(x), IntegerType())\n",
    "\n",
    "get_week_of_quarter_udf = udf(lambda x: get_week_of_quarter(x), StringType())\n",
    "\n",
    "get_quarter_name_udf = udf(lambda x: get_quarter_name(x), StringType())\n",
    "\n",
    "get_week_of_year_udf = udf(lambda x: get_week_of_year(x), IntegerType())\n",
    "\n",
    "get_week_of_month_udf =  udf(lambda x: get_week_of_month(x), IntegerType())\n",
    "\n",
    "get_day_of_quarter_udf = udf(lambda x: get_day_of_quarter(x), IntegerType())\n",
    "\n",
    "get_day_of_quarter_udf = udf(lambda x: get_day_of_quarter(x), IntegerType())\n",
    "\n",
    "add_sufix_udf = udf(lambda x: add_sufix(x), StringType())\n"
   ]
  },
  {
   "cell_type": "code",
   "execution_count": null,
   "metadata": {
    "application/vnd.databricks.v1+cell": {
     "cellMetadata": {
      "byteLimit": 2048000,
      "rowLimit": 10000
     },
     "inputWidgets": {},
     "nuid": "d9db93c7-4b67-4547-b01a-e1cd55bbc13d",
     "showTitle": true,
     "title": "CREATE AND WRITE DATE "
    }
   },
   "outputs": [],
   "source": [
    "date_df2 = date_df\\\n",
    "    .withColumn(\"sk_date\", date_format(col(\"date_tmp\"), \"yyyyMMdd\").cast(\"int\"))\\\n",
    "    .withColumn(\"data\", to_timestamp(\"date_tmp\", 'MM-dd-yyyy HH:mm:ss.SSSS'))\\\n",
    "    .withColumn(\"full_date\", date_format(\"date_tmp\", 'dd/MM/yyyy'))\\\n",
    "    .withColumn(\"day_of_month\", date_format(col(\"date_tmp\"), \"dd\"))\\\n",
    "    .withColumn(\"day_suffix\", add_sufix_udf(\"day_of_month\"))\\\n",
    "    .withColumn(\"day_name\", date_format(\"date_tmp\", \"EEEE\"))\\\n",
    "    .withColumn(\"day_of_week\", dayofweek(\"date_tmp\").cast(\"string\"))\\\n",
    "    .withColumn(\"day_of_quarter\", get_day_of_quarter_udf(col(\"date_tmp\")).cast(\"string\"))\\\n",
    "    .withColumn(\"day_of_year\", dayofyear(\"date_tmp\").cast(\"string\"))\\\n",
    "    .withColumn(\"week_of_month\", get_week_of_month_udf(\"date_tmp\").cast(\"string\"))\\\n",
    "    .withColumn(\"week_of_quarter\", get_week_of_quarter_udf(\"date_tmp\").cast(\"string\"))\\\n",
    "    .withColumn(\"week_of_year\", get_week_of_year_udf(\"date_tmp\").cast(\"string\"))\\\n",
    "    .withColumn(\"month\", date_format(col(\"date_tmp\"), \"MM\").cast(\"string\"))\\\n",
    "    .withColumn(\"month_name\", date_format(col(\"date_tmp\"), \"MMMM\"))\\\n",
    "    .withColumn(\"month_of_quarter\", get_month_of_quarter_udf(date_format(\"date_tmp\", \"M\")).cast(\"string\"))\\\n",
    "    .withColumn(\"quarter\", date_format(col(\"date_tmp\"), \"Q\"))\\\n",
    "    .withColumn(\"quarter_name\", get_quarter_name_udf(date_format(col(\"date_tmp\"), \"Q\")))\\\n",
    "    .withColumn(\"year\", date_format(col(\"date_tmp\"), \"yyyy\"))\\\n",
    "    .withColumn(\"month_year\", date_format(col(\"date_tmp\"), \"MMM-yy\"))\\\n",
    "    .withColumn(\"MMYYYY\", date_format(col(\"date_tmp\"), \"MMyyyy\"))\\\n",
    "    .withColumn(\"first_day_of_month\", get_first_day_udf(\"date_tmp\"))\\\n",
    "    .withColumn(\"last_day_of_month\", get_last_day_udf(\"date_tmp\"))\\\n",
    "    .withColumn(\"is_weekday\", is_weekday_udf(dayofweek(\"date_tmp\")))\n",
    "\n",
    "\n",
    "date_df3 = date_df2.drop(col(\"date_tmp\"))\n",
    "    \n",
    "display(date_df3)"
   ]
  }
 ],
 "metadata": {
  "application/vnd.databricks.v1+notebook": {
   "dashboards": [],
   "language": "python",
   "notebookMetadata": {
    "mostRecentlyExecutedCommandWithImplicitDF": {
     "commandId": 1562667695109077,
     "dataframes": [
      "_sqldf"
     ]
    },
    "pythonIndentUnit": 4
   },
   "notebookName": "DATE_TIME_CREATION",
   "widgets": {}
  },
  "language_info": {
   "name": "python"
  }
 },
 "nbformat": 4,
 "nbformat_minor": 0
}
